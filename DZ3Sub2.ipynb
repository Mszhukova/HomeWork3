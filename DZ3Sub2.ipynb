{
  "nbformat": 4,
  "nbformat_minor": 0,
  "metadata": {
    "colab": {
      "name": "DZ3Sub2.ipynb",
      "provenance": [],
      "collapsed_sections": [
        "9XOE-GhLqtHP"
      ],
      "toc_visible": true
    },
    "kernelspec": {
      "name": "python3",
      "display_name": "Python 3"
    }
  },
  "cells": [
    {
      "cell_type": "code",
      "metadata": {
        "id": "DAx6dTlB1XjO"
      },
      "source": [
        "import numpy as np\n",
        "import pandas as pd\n",
        "import matplotlib.pyplot as plt\n",
        "import seaborn as sns\n",
        "import os\n",
        "from sklearn.linear_model import SGDClassifier\n",
        "from sklearn import preprocessing\n",
        "from sklearn.preprocessing import LabelEncoder\n",
        "from sklearn.impute import SimpleImputer\n",
        "from sklearn.metrics import roc_auc_score, make_scorer\n",
        "from sklearn.linear_model import LogisticRegression, LogisticRegressionCV \n",
        "from sklearn.model_selection import KFold, StratifiedKFold, cross_val_score\n",
        "from sklearn.model_selection import RandomizedSearchCV, train_test_split, GridSearchCV\n",
        "import lightgbm as lgb\n",
        "from lightgbm import LGBMRegressor\n",
        "from sklearn.tree import DecisionTreeClassifier\n",
        "from sklearn.preprocessing import MinMaxScaler\n",
        "from sklearn.ensemble import RandomForestClassifier"
      ],
      "execution_count": 239,
      "outputs": []
    },
    {
      "cell_type": "code",
      "metadata": {
        "id": "nHVaOOVOXai5"
      },
      "source": [
        "for dirname, _, filenames in os.walk('/kaggle/input'):\n",
        "    for filename in filenames:\n",
        "        print(os.path.join(dirname, filename))"
      ],
      "execution_count": 240,
      "outputs": []
    },
    {
      "cell_type": "code",
      "metadata": {
        "id": "HZjq7dILXd41"
      },
      "source": [
        "app_train = pd.read_csv(\"application_train.csv\")\n",
        "app_test = pd.read_csv(\"application_test.csv\")\n",
        "submission = pd.read_csv(\"sample_submission.csv\")"
      ],
      "execution_count": 241,
      "outputs": []
    },
    {
      "cell_type": "code",
      "metadata": {
        "id": "UQOpnkrVX7u3",
        "outputId": "298d1318-2677-4ad1-f639-2b3649f91982",
        "colab": {
          "base_uri": "https://localhost:8080/"
        }
      },
      "source": [
        "app_train.shape"
      ],
      "execution_count": 242,
      "outputs": [
        {
          "output_type": "execute_result",
          "data": {
            "text/plain": [
              "(307511, 122)"
            ]
          },
          "metadata": {
            "tags": []
          },
          "execution_count": 242
        }
      ]
    },
    {
      "cell_type": "markdown",
      "metadata": {
        "id": "9XOE-GhLqtHP"
      },
      "source": [
        "### **Проведем преобразование данных для обучения**"
      ]
    },
    {
      "cell_type": "code",
      "metadata": {
        "id": "L31fJQsnmxLp"
      },
      "source": [
        "test_id = app_test['SK_ID_CURR']\n",
        "y_train=app_train['TARGET']"
      ],
      "execution_count": 274,
      "outputs": []
    },
    {
      "cell_type": "code",
      "metadata": {
        "id": "OOilhdO3mOPQ"
      },
      "source": [
        "def missing_data(data):\n",
        "    total = data.isnull().sum().sort_values(ascending = False)\n",
        "    percent = (data.isnull().sum()/data.isnull().count()*100).sort_values(ascending = False)\n",
        "    return pd.concat([total, percent], axis=1, keys=['Total', 'Percent'])"
      ],
      "execution_count": 244,
      "outputs": []
    },
    {
      "cell_type": "code",
      "metadata": {
        "id": "XwZPWhxzmT8p",
        "outputId": "5bcdcae6-1ff0-4010-ef65-9ba79826e457",
        "colab": {
          "base_uri": "https://localhost:8080/",
          "height": 639
        }
      },
      "source": [
        "missing_values = missing_data(app_train)\n",
        "missing_values.head(20)"
      ],
      "execution_count": 245,
      "outputs": [
        {
          "output_type": "execute_result",
          "data": {
            "text/html": [
              "<div>\n",
              "<style scoped>\n",
              "    .dataframe tbody tr th:only-of-type {\n",
              "        vertical-align: middle;\n",
              "    }\n",
              "\n",
              "    .dataframe tbody tr th {\n",
              "        vertical-align: top;\n",
              "    }\n",
              "\n",
              "    .dataframe thead th {\n",
              "        text-align: right;\n",
              "    }\n",
              "</style>\n",
              "<table border=\"1\" class=\"dataframe\">\n",
              "  <thead>\n",
              "    <tr style=\"text-align: right;\">\n",
              "      <th></th>\n",
              "      <th>Total</th>\n",
              "      <th>Percent</th>\n",
              "    </tr>\n",
              "  </thead>\n",
              "  <tbody>\n",
              "    <tr>\n",
              "      <th>COMMONAREA_MEDI</th>\n",
              "      <td>214865</td>\n",
              "      <td>69.872297</td>\n",
              "    </tr>\n",
              "    <tr>\n",
              "      <th>COMMONAREA_AVG</th>\n",
              "      <td>214865</td>\n",
              "      <td>69.872297</td>\n",
              "    </tr>\n",
              "    <tr>\n",
              "      <th>COMMONAREA_MODE</th>\n",
              "      <td>214865</td>\n",
              "      <td>69.872297</td>\n",
              "    </tr>\n",
              "    <tr>\n",
              "      <th>NONLIVINGAPARTMENTS_MODE</th>\n",
              "      <td>213514</td>\n",
              "      <td>69.432963</td>\n",
              "    </tr>\n",
              "    <tr>\n",
              "      <th>NONLIVINGAPARTMENTS_MEDI</th>\n",
              "      <td>213514</td>\n",
              "      <td>69.432963</td>\n",
              "    </tr>\n",
              "    <tr>\n",
              "      <th>NONLIVINGAPARTMENTS_AVG</th>\n",
              "      <td>213514</td>\n",
              "      <td>69.432963</td>\n",
              "    </tr>\n",
              "    <tr>\n",
              "      <th>FONDKAPREMONT_MODE</th>\n",
              "      <td>210295</td>\n",
              "      <td>68.386172</td>\n",
              "    </tr>\n",
              "    <tr>\n",
              "      <th>LIVINGAPARTMENTS_MEDI</th>\n",
              "      <td>210199</td>\n",
              "      <td>68.354953</td>\n",
              "    </tr>\n",
              "    <tr>\n",
              "      <th>LIVINGAPARTMENTS_MODE</th>\n",
              "      <td>210199</td>\n",
              "      <td>68.354953</td>\n",
              "    </tr>\n",
              "    <tr>\n",
              "      <th>LIVINGAPARTMENTS_AVG</th>\n",
              "      <td>210199</td>\n",
              "      <td>68.354953</td>\n",
              "    </tr>\n",
              "    <tr>\n",
              "      <th>FLOORSMIN_MEDI</th>\n",
              "      <td>208642</td>\n",
              "      <td>67.848630</td>\n",
              "    </tr>\n",
              "    <tr>\n",
              "      <th>FLOORSMIN_MODE</th>\n",
              "      <td>208642</td>\n",
              "      <td>67.848630</td>\n",
              "    </tr>\n",
              "    <tr>\n",
              "      <th>FLOORSMIN_AVG</th>\n",
              "      <td>208642</td>\n",
              "      <td>67.848630</td>\n",
              "    </tr>\n",
              "    <tr>\n",
              "      <th>YEARS_BUILD_MEDI</th>\n",
              "      <td>204488</td>\n",
              "      <td>66.497784</td>\n",
              "    </tr>\n",
              "    <tr>\n",
              "      <th>YEARS_BUILD_AVG</th>\n",
              "      <td>204488</td>\n",
              "      <td>66.497784</td>\n",
              "    </tr>\n",
              "    <tr>\n",
              "      <th>YEARS_BUILD_MODE</th>\n",
              "      <td>204488</td>\n",
              "      <td>66.497784</td>\n",
              "    </tr>\n",
              "    <tr>\n",
              "      <th>OWN_CAR_AGE</th>\n",
              "      <td>202929</td>\n",
              "      <td>65.990810</td>\n",
              "    </tr>\n",
              "    <tr>\n",
              "      <th>LANDAREA_MODE</th>\n",
              "      <td>182590</td>\n",
              "      <td>59.376738</td>\n",
              "    </tr>\n",
              "    <tr>\n",
              "      <th>LANDAREA_AVG</th>\n",
              "      <td>182590</td>\n",
              "      <td>59.376738</td>\n",
              "    </tr>\n",
              "    <tr>\n",
              "      <th>LANDAREA_MEDI</th>\n",
              "      <td>182590</td>\n",
              "      <td>59.376738</td>\n",
              "    </tr>\n",
              "  </tbody>\n",
              "</table>\n",
              "</div>"
            ],
            "text/plain": [
              "                           Total    Percent\n",
              "COMMONAREA_MEDI           214865  69.872297\n",
              "COMMONAREA_AVG            214865  69.872297\n",
              "COMMONAREA_MODE           214865  69.872297\n",
              "NONLIVINGAPARTMENTS_MODE  213514  69.432963\n",
              "NONLIVINGAPARTMENTS_MEDI  213514  69.432963\n",
              "NONLIVINGAPARTMENTS_AVG   213514  69.432963\n",
              "FONDKAPREMONT_MODE        210295  68.386172\n",
              "LIVINGAPARTMENTS_MEDI     210199  68.354953\n",
              "LIVINGAPARTMENTS_MODE     210199  68.354953\n",
              "LIVINGAPARTMENTS_AVG      210199  68.354953\n",
              "FLOORSMIN_MEDI            208642  67.848630\n",
              "FLOORSMIN_MODE            208642  67.848630\n",
              "FLOORSMIN_AVG             208642  67.848630\n",
              "YEARS_BUILD_MEDI          204488  66.497784\n",
              "YEARS_BUILD_AVG           204488  66.497784\n",
              "YEARS_BUILD_MODE          204488  66.497784\n",
              "OWN_CAR_AGE               202929  65.990810\n",
              "LANDAREA_MODE             182590  59.376738\n",
              "LANDAREA_AVG              182590  59.376738\n",
              "LANDAREA_MEDI             182590  59.376738"
            ]
          },
          "metadata": {
            "tags": []
          },
          "execution_count": 245
        }
      ]
    },
    {
      "cell_type": "code",
      "metadata": {
        "id": "SwHopPksmXnY"
      },
      "source": [
        "# закодируем категориальные признаки\n",
        "app_train = pd.get_dummies(app_train)\n",
        "app_test = pd.get_dummies(app_test)"
      ],
      "execution_count": 246,
      "outputs": []
    },
    {
      "cell_type": "code",
      "metadata": {
        "id": "mAyKNnxzmhsn"
      },
      "source": [
        "#выровняем количество столбцов в train и test\n",
        "train_labels = app_train['TARGET']\n",
        "app_train, app_test = app_train.align(app_test, join = 'inner', axis = 1)\n",
        "app_train['TARGET'] = train_labels"
      ],
      "execution_count": 247,
      "outputs": []
    },
    {
      "cell_type": "code",
      "metadata": {
        "id": "I7ZtQzg5nY49"
      },
      "source": [
        "#уберем выбросы в столбце DAYS_EMPLOYED для train и test\n",
        "anom = app_train[app_train['DAYS_EMPLOYED'] == 365243]\n",
        "non_anom = app_train[app_train['DAYS_EMPLOYED'] != 365243]\n",
        "app_train['DAYS_EMPLOYED_ANOM'] = app_train[\"DAYS_EMPLOYED\"] == 365243\n",
        "app_train['DAYS_EMPLOYED'].replace({365243: np.nan}, inplace = True)\n",
        "app_test['DAYS_EMPLOYED_ANOM'] = app_test[\"DAYS_EMPLOYED\"] == 365243\n",
        "app_test[\"DAYS_EMPLOYED\"].replace({365243: np.nan}, inplace = True)"
      ],
      "execution_count": 248,
      "outputs": []
    },
    {
      "cell_type": "code",
      "metadata": {
        "id": "MxkIG23Uj01t"
      },
      "source": [
        "# Уберем целевую переменную из train\n",
        "if 'TARGET' in app_train:\n",
        "    train = app_train.drop(columns = ['TARGET'])\n",
        "else:\n",
        "    train = app_train.copy()"
      ],
      "execution_count": 249,
      "outputs": []
    },
    {
      "cell_type": "code",
      "metadata": {
        "id": "F7sjl7nEkCpy"
      },
      "source": [
        "features = list(train.columns)\n",
        "test = app_test.copy()"
      ],
      "execution_count": 250,
      "outputs": []
    },
    {
      "cell_type": "code",
      "metadata": {
        "id": "kUtAFoPepR5H"
      },
      "source": [
        "# Заполним пропущенные значения медианами и нормируем значения признаков\n",
        "imputer = SimpleImputer(strategy = 'median')\n",
        "scaler = MinMaxScaler(feature_range = (0, 1))\n",
        "\n",
        "imputer.fit(train)\n",
        "\n",
        "train = imputer.transform(train)\n",
        "test = imputer.transform(app_test)\n",
        "\n",
        "scaler.fit(train)\n",
        "train = scaler.transform(train)\n",
        "test = scaler.transform(test)"
      ],
      "execution_count": 251,
      "outputs": []
    },
    {
      "cell_type": "code",
      "metadata": {
        "id": "WngWxlrItOQU"
      },
      "source": [
        "ext_data = app_train[['EXT_SOURCE_3', 'EXT_SOURCE_2', 'EXT_SOURCE_1', 'DAYS_EMPLOYED', 'DAYS_LAST_PHONE_CHANGE']]\n",
        "ext_data_test=app_test[['EXT_SOURCE_3', 'EXT_SOURCE_2', 'EXT_SOURCE_1', 'DAYS_EMPLOYED', 'DAYS_LAST_PHONE_CHANGE']]"
      ],
      "execution_count": 252,
      "outputs": []
    },
    {
      "cell_type": "code",
      "metadata": {
        "id": "BnfJm_xbtd76"
      },
      "source": [
        "imp = SimpleImputer(strategy = 'median')\n",
        "sc = MinMaxScaler(feature_range = (0, 1))\n",
        "imp.fit(ext_data)\n",
        "sc.fit(ext_data)\n",
        "ext_data = imp.transform(ext_data)\n",
        "ext_data_test=imp.transform(ext_data_test)\n",
        "ext_data = sc.transform(ext_data)\n",
        "ext_data_test=sc.transform(ext_data_test)"
      ],
      "execution_count": 253,
      "outputs": []
    },
    {
      "cell_type": "code",
      "metadata": {
        "id": "PokpP4GAuom_"
      },
      "source": [
        "ext_data4 = app_train[['EXT_SOURCE_3', 'EXT_SOURCE_2', 'EXT_SOURCE_1', 'DAYS_EMPLOYED']]\n",
        "ext_data_test4=app_test[['EXT_SOURCE_3', 'EXT_SOURCE_2', 'EXT_SOURCE_1', 'DAYS_EMPLOYED']]"
      ],
      "execution_count": 271,
      "outputs": []
    },
    {
      "cell_type": "code",
      "metadata": {
        "id": "7Ht6uD4KuyWY"
      },
      "source": [
        "im = SimpleImputer(strategy = 'median')\n",
        "scl = MinMaxScaler(feature_range = (0, 1))\n",
        "im.fit(ext_data4)\n",
        "scl.fit(ext_data4)\n",
        "ext_data4 = im.transform(ext_data4)\n",
        "ext_data_test4=im.transform(ext_data_test4)\n",
        "ext_data4 = scl.transform(ext_data4)\n",
        "ext_data_test4=scl.transform(ext_data_test4)"
      ],
      "execution_count": 272,
      "outputs": []
    },
    {
      "cell_type": "code",
      "metadata": {
        "id": "kAolA56pLU9u"
      },
      "source": [
        "X_train, X_test, y_train, y_test = train_test_split(train, y_train, test_size = 0.3, random_state = 200)"
      ],
      "execution_count": 273,
      "outputs": []
    },
    {
      "cell_type": "markdown",
      "metadata": {
        "id": "Obd-L6bObVzx"
      },
      "source": [
        "## **Решающие деревья**"
      ]
    },
    {
      "cell_type": "markdown",
      "metadata": {
        "id": "W0nr34n6q2OF"
      },
      "source": [
        "### **max_depth**\n"
      ]
    },
    {
      "cell_type": "code",
      "metadata": {
        "id": "9aCot-YUK5OH",
        "outputId": "5eb82e41-9d9a-41c9-fcc7-3a431e7a07e5",
        "colab": {
          "base_uri": "https://localhost:8080/"
        }
      },
      "source": [
        "roc_scores_for_m_ds=[]\n",
        "m_ds=[5, 6, 7, 8, 10, 12]\n",
        "for m_d in m_ds:\n",
        "    tree_model=DecisionTreeClassifier( max_depth=m_d,random_state=10)\n",
        "    tree_model.fit(X_train, y_train)\n",
        "    pred_m = tree_model.predict_proba(X_test)[:,1]\n",
        "    roc_scores_for_m_ds.append(roc_auc_score(y_test, pred_m))\n",
        "    print(\"ROC Score:\",  roc_auc_score(y_test, pred_m), \"for max_depth:\", m_d)"
      ],
      "execution_count": 199,
      "outputs": [
        {
          "output_type": "stream",
          "text": [
            "ROC Score: 0.7049793956728694 for max_depth: 5\n",
            "ROC Score: 0.7121680574139312 for max_depth: 6\n",
            "ROC Score: 0.7139607717699322 for max_depth: 7\n",
            "ROC Score: 0.7149243898766819 for max_depth: 8\n",
            "ROC Score: 0.7098484536789998 for max_depth: 10\n",
            "ROC Score: 0.6928127345026097 for max_depth: 12\n"
          ],
          "name": "stdout"
        }
      ]
    },
    {
      "cell_type": "code",
      "metadata": {
        "id": "nY_uQVEtQ_gv",
        "outputId": "a1bea756-4480-47d6-85f8-e3ab431f8b33",
        "colab": {
          "base_uri": "https://localhost:8080/",
          "height": 280
        }
      },
      "source": [
        "plt.xlabel('max_depth')\n",
        "plt.ylabel('roc_auc_score')\n",
        "plt.plot(m_ds, roc_scores_for_m_ds);"
      ],
      "execution_count": 200,
      "outputs": [
        {
          "output_type": "display_data",
          "data": {
            "image/png": "[encoded data removed]",
            "text/plain": [
              "<Figure size 432x288 with 1 Axes>"
            ]
          },
          "metadata": {
            "tags": [],
            "needs_background": "light"
          }
        }
      ]
    },
    {
      "cell_type": "markdown",
      "metadata": {
        "id": "qpyouSK0SBvp"
      },
      "source": [
        "Лучший результат достигается при max_depth = 8"
      ]
    },
    {
      "cell_type": "markdown",
      "metadata": {
        "id": "bE8DhSmTSPm3"
      },
      "source": [
        "### **min_samples_leaf**"
      ]
    },
    {
      "cell_type": "code",
      "metadata": {
        "id": "P1T5rVd9SO_z",
        "outputId": "d4e79909-57c8-474f-e809-17c0a94651f5",
        "colab": {
          "base_uri": "https://localhost:8080/"
        }
      },
      "source": [
        "roc_scores_for_msls=[]\n",
        "msls=[20, 50, 100, 150, 200, 250]\n",
        "for msl in msls:\n",
        "    tree_model=DecisionTreeClassifier(min_samples_leaf = msl,random_state=10)\n",
        "    tree_model.fit(X_train, y_train)\n",
        "    pred_m = tree_model.predict_proba(X_test)[:,1]\n",
        "    roc_scores_for_msls.append(roc_auc_score(y_test, pred_m))\n",
        "    print(\"ROC Score:\",  roc_auc_score(y_test, pred_m), \"for min_samples_leaf:\", msl)"
      ],
      "execution_count": 201,
      "outputs": [
        {
          "output_type": "stream",
          "text": [
            "ROC Score: 0.6169980687490334 for min_samples_leaf: 20\n",
            "ROC Score: 0.6543117146803276 for min_samples_leaf: 50\n",
            "ROC Score: 0.6815503597661631 for min_samples_leaf: 100\n",
            "ROC Score: 0.6922189780922563 for min_samples_leaf: 150\n",
            "ROC Score: 0.7020224526433703 for min_samples_leaf: 200\n",
            "ROC Score: 0.7074309952704172 for min_samples_leaf: 250\n"
          ],
          "name": "stdout"
        }
      ]
    },
    {
      "cell_type": "code",
      "metadata": {
        "id": "q9weeUxQTxw6",
        "outputId": "9b3a8f8c-ade4-4fcf-dcfc-763f496f6b41",
        "colab": {
          "base_uri": "https://localhost:8080/",
          "height": 280
        }
      },
      "source": [
        "plt.xlabel('min_samples_leaf')\n",
        "plt.ylabel('roc_auc_score')\n",
        "plt.plot(msls, roc_scores_for_msls);"
      ],
      "execution_count": 202,
      "outputs": [
        {
          "output_type": "display_data",
          "data": {
            "image/png": "[encoded data removed]",
            "text/plain": [
              "<Figure size 432x288 with 1 Axes>"
            ]
          },
          "metadata": {
            "tags": [],
            "needs_background": "light"
          }
        }
      ]
    },
    {
      "cell_type": "markdown",
      "metadata": {
        "id": "RTd1-kVOaYej"
      },
      "source": [
        "В данном случае, с ростом значения параметра min_samples_leaf, результат улучшается"
      ]
    },
    {
      "cell_type": "markdown",
      "metadata": {
        "id": "M8U61jWYWkTS"
      },
      "source": [
        "### **min_samples_split**"
      ]
    },
    {
      "cell_type": "code",
      "metadata": {
        "id": "Xu7XA-5JXLQF",
        "outputId": "3caccbd3-6a80-4eda-893c-93319d6e516d",
        "colab": {
          "base_uri": "https://localhost:8080/"
        }
      },
      "source": [
        "roc_scores_for_m_ss=[]\n",
        "m_ss=[10, 20, 30, 50, 100, 150]\n",
        "for m_s in m_ss:\n",
        "    tree_model=DecisionTreeClassifier(min_samples_split=m_s, random_state=10)\n",
        "    tree_model.fit(X_train, y_train)\n",
        "    pred_m = tree_model.predict_proba(X_test)[:,1]\n",
        "    roc_scores_for_m_ss.append(roc_auc_score(y_test, pred_m))\n",
        "    print(\"ROC Score:\",  roc_auc_score(y_test, pred_m), \"for min_samples_split:\", m_s)"
      ],
      "execution_count": 203,
      "outputs": [
        {
          "output_type": "stream",
          "text": [
            "ROC Score: 0.5509486126709591 for min_samples_split: 10\n",
            "ROC Score: 0.5647088569162244 for min_samples_split: 20\n",
            "ROC Score: 0.5736571393228249 for min_samples_split: 30\n",
            "ROC Score: 0.5853718305436396 for min_samples_split: 50\n",
            "ROC Score: 0.6127263201229344 for min_samples_split: 100\n",
            "ROC Score: 0.6340769784910573 for min_samples_split: 150\n"
          ],
          "name": "stdout"
        }
      ]
    },
    {
      "cell_type": "code",
      "metadata": {
        "id": "uUfd_qGJZ3wW",
        "outputId": "9cdf85d6-8f70-49b9-be43-8c275aa1bf96",
        "colab": {
          "base_uri": "https://localhost:8080/",
          "height": 280
        }
      },
      "source": [
        "plt.xlabel('min_samples_split')\n",
        "plt.ylabel('roc_auc_score')\n",
        "plt.plot(m_ss, roc_scores_for_m_ss);"
      ],
      "execution_count": 204,
      "outputs": [
        {
          "output_type": "display_data",
          "data": {
            "image/png": "[encoded data removed]",
            "text/plain": [
              "<Figure size 432x288 with 1 Axes>"
            ]
          },
          "metadata": {
            "tags": [],
            "needs_background": "light"
          }
        }
      ]
    },
    {
      "cell_type": "markdown",
      "metadata": {
        "id": "HOH5_oQ3qy5p"
      },
      "source": [
        "В данном случае, с ростом значения параметра min_samples_split, результат улучшается"
      ]
    },
    {
      "cell_type": "markdown",
      "metadata": {
        "id": "CO2Qag_ocDEC"
      },
      "source": [
        "### **GridSearchCV**"
      ]
    },
    {
      "cell_type": "code",
      "metadata": {
        "id": "W8yq8FEWcJt9",
        "outputId": "7354593f-ecc9-4a56-9fe2-3b2087fabdd9",
        "colab": {
          "base_uri": "https://localhost:8080/"
        }
      },
      "source": [
        "tree_model_for_grid=DecisionTreeClassifier(random_state=10)\n",
        "parameters = {\n",
        "    'max_depth': [6, 7, 8, 10],\n",
        "    'min_samples_leaf': [50, 100, 150, 200],\n",
        "    'min_samples_split': [20, 30, 50, 100]\n",
        "}\n",
        "grid_tree = GridSearchCV(estimator=tree_model_for_grid, param_grid=parameters, cv=5)\n",
        "grid_tree.fit(X_train, y_train)\n",
        "pred_for_tree= grid_tree.predict_proba(X_test)[:,1]\n",
        "print(\"ROC Score:\",  roc_auc_score(y_test, pred_for_tree))"
      ],
      "execution_count": 205,
      "outputs": [
        {
          "output_type": "stream",
          "text": [
            "ROC Score: 0.7123695260295665\n"
          ],
          "name": "stdout"
        }
      ]
    },
    {
      "cell_type": "code",
      "metadata": {
        "id": "Bx3kFluQzyO1",
        "outputId": "54461db3-fb24-4ac3-8471-0e5dcc69f299",
        "colab": {
          "base_uri": "https://localhost:8080/"
        }
      },
      "source": [
        "grid_tree.best_params_"
      ],
      "execution_count": 206,
      "outputs": [
        {
          "output_type": "execute_result",
          "data": {
            "text/plain": [
              "{'max_depth': 6, 'min_samples_leaf': 100, 'min_samples_split': 20}"
            ]
          },
          "metadata": {
            "tags": []
          },
          "execution_count": 206
        }
      ]
    },
    {
      "cell_type": "markdown",
      "metadata": {
        "id": "2zuTcArDsAMb"
      },
      "source": [
        "### **RandomizedSearchCV**"
      ]
    },
    {
      "cell_type": "code",
      "metadata": {
        "id": "VSadhtjCz_wH",
        "outputId": "b17946c8-8f2a-470c-e699-dff70cffe3f9",
        "colab": {
          "base_uri": "https://localhost:8080/"
        }
      },
      "source": [
        "random_tree_model = DecisionTreeClassifier(random_state=10)\n",
        "parameters_for_random_model = {\n",
        "    'max_depth': [6, 7, 8, 10],\n",
        "    'min_samples_leaf': [50, 100, 150, 200],\n",
        "    'min_samples_split': [20, 30, 50, 100]\n",
        "}\n",
        "grid_random_tree = RandomizedSearchCV(random_tree_model, parameters_for_random_model, cv=5)\n",
        "grid_random_tree.fit(X_train, y_train)\n",
        "random_tree_pred= grid_random_tree.predict_proba(X_test)[:,1]\n",
        "print(\"ROC Score:\",  roc_auc_score(y_test, random_tree_pred))"
      ],
      "execution_count": 207,
      "outputs": [
        {
          "output_type": "stream",
          "text": [
            "ROC Score: 0.7127356350448151\n"
          ],
          "name": "stdout"
        }
      ]
    },
    {
      "cell_type": "code",
      "metadata": {
        "id": "7VKj4hspxxNc",
        "outputId": "a0636015-c7a1-44ef-91bc-1790abba5dc6",
        "colab": {
          "base_uri": "https://localhost:8080/"
        }
      },
      "source": [
        "grid_random_tree.best_params_"
      ],
      "execution_count": 208,
      "outputs": [
        {
          "output_type": "execute_result",
          "data": {
            "text/plain": [
              "{'max_depth': 6, 'min_samples_leaf': 150, 'min_samples_split': 100}"
            ]
          },
          "metadata": {
            "tags": []
          },
          "execution_count": 208
        }
      ]
    },
    {
      "cell_type": "markdown",
      "metadata": {
        "id": "YX3TKoEMzEIP"
      },
      "source": [
        "## **Случайный лес**"
      ]
    },
    {
      "cell_type": "markdown",
      "metadata": {
        "id": "rPKO5kdM_Nqc"
      },
      "source": [
        "### **n_estimators**"
      ]
    },
    {
      "cell_type": "code",
      "metadata": {
        "id": "9VQ7T3LO0Bgv",
        "outputId": "42c13a2b-794b-4dfb-9bf8-949dd5ed0b0e",
        "colab": {
          "base_uri": "https://localhost:8080/"
        }
      },
      "source": [
        "roc_scores_for_trees=[]\n",
        "trees=[10, 20, 30, 50, 100, 150]\n",
        "for tree in trees:\n",
        "    forest_model = RandomForestClassifier(random_state=10, n_estimators=tree)\n",
        "    forest_model.fit(X_train, y_train)\n",
        "    pred_forest = forest_model.predict_proba(X_test)[:,1]\n",
        "    roc_scores_for_trees.append(roc_auc_score(y_test, pred_forest))\n",
        "    print(\"ROC Score:\",  roc_auc_score(y_test, pred_forest), \"for trees:\", tree)"
      ],
      "execution_count": 209,
      "outputs": [
        {
          "output_type": "stream",
          "text": [
            "ROC Score: 0.6325267004408286 for trees: 10\n",
            "ROC Score: 0.6590521395545297 for trees: 20\n",
            "ROC Score: 0.6741606935610257 for trees: 30\n",
            "ROC Score: 0.6923288178222541 for trees: 50\n",
            "ROC Score: 0.7087713741970882 for trees: 100\n",
            "ROC Score: 0.7142530135904381 for trees: 150\n"
          ],
          "name": "stdout"
        }
      ]
    },
    {
      "cell_type": "code",
      "metadata": {
        "id": "UDWKn7E5_XY1",
        "outputId": "5082766c-63e1-4b37-eb70-49337e216a34",
        "colab": {
          "base_uri": "https://localhost:8080/",
          "height": 297
        }
      },
      "source": [
        "plt.xlabel('n_estimators')\n",
        "plt.ylabel('roc_auc_score')\n",
        "plt.plot(trees, roc_scores_for_trees)"
      ],
      "execution_count": 210,
      "outputs": [
        {
          "output_type": "execute_result",
          "data": {
            "text/plain": [
              "[<matplotlib.lines.Line2D at 0x7f028e8a41d0>]"
            ]
          },
          "metadata": {
            "tags": []
          },
          "execution_count": 210
        },
        {
          "output_type": "display_data",
          "data": {
            "image/png": "[encoded data removed]",
            "text/plain": [
              "<Figure size 432x288 with 1 Axes>"
            ]
          },
          "metadata": {
            "tags": [],
            "needs_background": "light"
          }
        }
      ]
    },
    {
      "cell_type": "markdown",
      "metadata": {
        "id": "Vd-xkKXirDUA"
      },
      "source": [
        "В данном случае, с ростом значения параметра n_estimators, результат улучшается"
      ]
    },
    {
      "cell_type": "markdown",
      "metadata": {
        "id": "dxgtc0evF0sL"
      },
      "source": [
        "### **max_depth**"
      ]
    },
    {
      "cell_type": "code",
      "metadata": {
        "id": "3cwpuc7WF2Vc",
        "outputId": "13cf04a5-e1e9-4306-d1a5-f922de2aecb4",
        "colab": {
          "base_uri": "https://localhost:8080/"
        }
      },
      "source": [
        "roc_scores_for_trees_m_d=[]\n",
        "m_ds=[5, 6, 7, 8, 10, 12]\n",
        "for m_d in m_ds:\n",
        "    forest_model = RandomForestClassifier(random_state=10, max_depth=m_d)\n",
        "    forest_model.fit(X_train, y_train)\n",
        "    pred_forest_m_d = forest_model.predict_proba(X_test)[:,1]\n",
        "    roc_scores_for_trees_m_d.append(roc_auc_score(y_test, pred_forest_m_d ))\n",
        "    print(\"ROC Score:\",  roc_auc_score(y_test, pred_forest_m_d ), \"for max_depth:\", m_d)"
      ],
      "execution_count": 211,
      "outputs": [
        {
          "output_type": "stream",
          "text": [
            "ROC Score: 0.7231461424775131 for max_depth: 5\n",
            "ROC Score: 0.7247610331087312 for max_depth: 6\n",
            "ROC Score: 0.7284451792795108 for max_depth: 7\n",
            "ROC Score: 0.7291730289176068 for max_depth: 8\n",
            "ROC Score: 0.7338780685503639 for max_depth: 10\n",
            "ROC Score: 0.7351494917635935 for max_depth: 12\n"
          ],
          "name": "stdout"
        }
      ]
    },
    {
      "cell_type": "code",
      "metadata": {
        "id": "zZlJ-SdQGf1-",
        "outputId": "5d330585-9f48-4ded-a6bc-19d94ea5555e",
        "colab": {
          "base_uri": "https://localhost:8080/",
          "height": 280
        }
      },
      "source": [
        "plt.xlabel('max_depth')\n",
        "plt.ylabel('roc_auc_score')\n",
        "plt.plot(m_ds, roc_scores_for_trees_m_d)\n",
        "None"
      ],
      "execution_count": 212,
      "outputs": [
        {
          "output_type": "display_data",
          "data": {
            "image/png": "[encoded data removed]",
            "text/plain": [
              "<Figure size 432x288 with 1 Axes>"
            ]
          },
          "metadata": {
            "tags": [],
            "needs_background": "light"
          }
        }
      ]
    },
    {
      "cell_type": "markdown",
      "metadata": {
        "id": "fDC4e6d2rHav"
      },
      "source": [
        "В данном случае, с ростом значения параметра max_depth, результат улучшается\n",
        "\n",
        "\n"
      ]
    },
    {
      "cell_type": "markdown",
      "metadata": {
        "id": "klj5sYRjHaeM"
      },
      "source": [
        "### **min_samples_split**"
      ]
    },
    {
      "cell_type": "code",
      "metadata": {
        "id": "Rzj5hbtyHdc4",
        "outputId": "f8a6e993-4f4c-443a-e352-aee05491dcd2",
        "colab": {
          "base_uri": "https://localhost:8080/"
        }
      },
      "source": [
        "roc_scores_tree_m_ss=[]\n",
        "m_ss=[10, 20, 30, 50, 100, 150]\n",
        "for m_s in m_ss:\n",
        "    forest_model = RandomForestClassifier(random_state=10, min_samples_split=m_s)\n",
        "    forest_model.fit(X_train, y_train)\n",
        "    pred_forest_m_s= forest_model.predict_proba(X_test)[:,1]\n",
        "    roc_scores_tree_m_ss.append(roc_auc_score(y_test, pred_forest_m_s))\n",
        "    print(\"ROC Score:\",  roc_auc_score(y_test, pred_forest_m_s), \"for min_samples_split:\", m_s)"
      ],
      "execution_count": 213,
      "outputs": [
        {
          "output_type": "stream",
          "text": [
            "ROC Score: 0.7154551061378608 for min_samples_split: 10\n",
            "ROC Score: 0.7187943316542209 for min_samples_split: 20\n",
            "ROC Score: 0.723827090705617 for min_samples_split: 30\n",
            "ROC Score: 0.7236929682710588 for min_samples_split: 50\n",
            "ROC Score: 0.7305893526698115 for min_samples_split: 100\n",
            "ROC Score: 0.73297785765142 for min_samples_split: 150\n"
          ],
          "name": "stdout"
        }
      ]
    },
    {
      "cell_type": "code",
      "metadata": {
        "id": "OCnPKPn8IAmM",
        "outputId": "6bdbff9f-40e4-48e7-b305-db0a6c7f6baf",
        "colab": {
          "base_uri": "https://localhost:8080/",
          "height": 280
        }
      },
      "source": [
        "plt.xlabel('min_samples_split')\n",
        "plt.ylabel('roc_auc_score')\n",
        "plt.plot(m_ss, roc_scores_tree_m_ss);"
      ],
      "execution_count": 214,
      "outputs": [
        {
          "output_type": "display_data",
          "data": {
            "image/png": "[encoded data removed]",
            "text/plain": [
              "<Figure size 432x288 with 1 Axes>"
            ]
          },
          "metadata": {
            "tags": [],
            "needs_background": "light"
          }
        }
      ]
    },
    {
      "cell_type": "markdown",
      "metadata": {
        "id": "dP3GHPw4rPq_"
      },
      "source": [
        "В данном случае, с ростом значения параметра min_samples_split, результат улучшается"
      ]
    },
    {
      "cell_type": "markdown",
      "metadata": {
        "id": "KMPhR547IlJG"
      },
      "source": [
        "### **GridSearchCV**"
      ]
    },
    {
      "cell_type": "code",
      "metadata": {
        "id": "uNl1C_bjIovl",
        "outputId": "7ffc3d42-dd0f-4490-f8e0-f36cc449442d",
        "colab": {
          "base_uri": "https://localhost:8080/"
        }
      },
      "source": [
        "forest_model = RandomForestClassifier(random_state=10)\n",
        "parameters = {\n",
        "    'n_estimators':[20, 30, 50, 100],\n",
        "    'max_depth': [6, 7, 8, 10],\n",
        "    'min_samples_split': [20, 30, 50, 100]\n",
        "}\n",
        "grid_forest = GridSearchCV(estimator=forest_model, param_grid=parameters, cv=5)\n",
        "grid_forest.fit(X_train, y_train)\n",
        "pred_for_forest= grid_forest.predict_proba(X_test)[:,1]\n",
        "print(\"ROC Score:\",  roc_auc_score(y_test, pred_for_forest))"
      ],
      "execution_count": 215,
      "outputs": [
        {
          "output_type": "stream",
          "text": [
            "ROC Score: 0.7209278698166903\n"
          ],
          "name": "stdout"
        }
      ]
    },
    {
      "cell_type": "code",
      "metadata": {
        "id": "n8DIl6OEN9tS",
        "outputId": "fd8a9ed3-8409-4c0f-dca6-8da3ab46d40b",
        "colab": {
          "base_uri": "https://localhost:8080/"
        }
      },
      "source": [
        "grid_forest.best_params_"
      ],
      "execution_count": 216,
      "outputs": [
        {
          "output_type": "execute_result",
          "data": {
            "text/plain": [
              "{'max_depth': 6, 'min_samples_split': 20, 'n_estimators': 20}"
            ]
          },
          "metadata": {
            "tags": []
          },
          "execution_count": 216
        }
      ]
    },
    {
      "cell_type": "markdown",
      "metadata": {
        "id": "dSQJ2XieLMyM"
      },
      "source": [
        "### **RandomizedSearchCV**"
      ]
    },
    {
      "cell_type": "code",
      "metadata": {
        "id": "q9TMdoQgLR_-",
        "outputId": "5c735a20-73a3-486a-f12c-fa4911cfc650",
        "colab": {
          "base_uri": "https://localhost:8080/"
        }
      },
      "source": [
        "forest_model = RandomForestClassifier(random_state=10)\n",
        "parameters_for_random_forest= {\n",
        "    'n_estimators':[20, 30, 50, 100],\n",
        "    'max_depth': [6, 7, 8, 10],\n",
        "    'min_samples_split': [20, 30, 50, 100]\n",
        "}\n",
        "grid_random_forest =RandomizedSearchCV(forest_model, parameters_for_random_forest, cv=5)\n",
        "grid_random_forest.fit(X_train, y_train)\n",
        "pred_for_random_forest= grid_random_forest.predict_proba(X_test)[:,1]\n",
        "print(\"ROC Score:\",  roc_auc_score(y_test, pred_for_random_forest))"
      ],
      "execution_count": 217,
      "outputs": [
        {
          "output_type": "stream",
          "text": [
            "ROC Score: 0.7303981869558056\n"
          ],
          "name": "stdout"
        }
      ]
    },
    {
      "cell_type": "code",
      "metadata": {
        "id": "nGAJBScmOUbm",
        "outputId": "058dddb3-38c9-454f-815b-933791d78177",
        "colab": {
          "base_uri": "https://localhost:8080/"
        }
      },
      "source": [
        "grid_random_forest.best_params_"
      ],
      "execution_count": 218,
      "outputs": [
        {
          "output_type": "execute_result",
          "data": {
            "text/plain": [
              "{'max_depth': 10, 'min_samples_split': 30, 'n_estimators': 50}"
            ]
          },
          "metadata": {
            "tags": []
          },
          "execution_count": 218
        }
      ]
    },
    {
      "cell_type": "markdown",
      "metadata": {
        "id": "uIXXnEK1mTLt"
      },
      "source": [
        "## **Оценка важности признаков**"
      ]
    },
    {
      "cell_type": "code",
      "metadata": {
        "id": "3u36cqeLma4m"
      },
      "source": [
        "#В качестве значений гиперпараметров, выберем значения RandomizedSearchCV, т.к.\n",
        "#они дают лучший скор\n",
        "final_forest = RandomForestClassifier(random_state=10, max_depth=8, min_samples_split=20, n_estimators=30)\n",
        "final_forest.fit(X_train, y_train)\n",
        "pred_final_forest= final_forest.predict_proba(X_test)[:,1]"
      ],
      "execution_count": 259,
      "outputs": []
    },
    {
      "cell_type": "code",
      "metadata": {
        "id": "KJ8_SXYSyJ3n",
        "outputId": "65a67111-ab2b-4059-969c-512721766837",
        "colab": {
          "base_uri": "https://localhost:8080/"
        }
      },
      "source": [
        "print(\"ROC Score:\",  roc_auc_score(y_test, pred_final_forest))"
      ],
      "execution_count": 278,
      "outputs": [
        {
          "output_type": "stream",
          "text": [
            "ROC Score: 0.7249512578896431\n"
          ],
          "name": "stdout"
        }
      ]
    },
    {
      "cell_type": "code",
      "metadata": {
        "id": "OfToZfWMo2fr"
      },
      "source": [
        "feature_scores=pd.Series(final_forest.feature_importances_, index=features).sort_values(ascending=False)"
      ],
      "execution_count": 263,
      "outputs": []
    },
    {
      "cell_type": "code",
      "metadata": {
        "id": "bOh128Feps1P",
        "outputId": "13c895ad-86b0-4dbe-be76-21dc5baa2361",
        "colab": {
          "base_uri": "https://localhost:8080/"
        }
      },
      "source": [
        "feature_scores.head(15)"
      ],
      "execution_count": 264,
      "outputs": [
        {
          "output_type": "execute_result",
          "data": {
            "text/plain": [
              "EXT_SOURCE_3                                         0.190290\n",
              "EXT_SOURCE_2                                         0.165107\n",
              "EXT_SOURCE_1                                         0.069743\n",
              "DAYS_EMPLOYED                                        0.067092\n",
              "DAYS_LAST_PHONE_CHANGE                               0.029130\n",
              "DAYS_BIRTH                                           0.025419\n",
              "NAME_EDUCATION_TYPE_Higher education                 0.023104\n",
              "REGION_RATING_CLIENT_W_CITY                          0.019872\n",
              "AMT_GOODS_PRICE                                      0.016516\n",
              "CODE_GENDER_F                                        0.015945\n",
              "NAME_INCOME_TYPE_Working                             0.014243\n",
              "DAYS_ID_PUBLISH                                      0.013159\n",
              "AMT_CREDIT                                           0.011752\n",
              "REGION_POPULATION_RELATIVE                           0.011283\n",
              "NAME_EDUCATION_TYPE_Secondary / secondary special    0.011213\n",
              "dtype: float64"
            ]
          },
          "metadata": {
            "tags": []
          },
          "execution_count": 264
        }
      ]
    },
    {
      "cell_type": "markdown",
      "metadata": {
        "id": "VKgTmqEDxpF7"
      },
      "source": [
        "Таким образом, больше всего на результат влияют признаки EXT_SOURCE_3, EXT_SOURCE_2, EXT_SOURCE_1, DAYS_EMPLOYED, DAYS_LAST_PHONE_CHANGE"
      ]
    },
    {
      "cell_type": "code",
      "metadata": {
        "id": "t2nN16tyubKC"
      },
      "source": [
        "#построим дерево для 5 важных признаков\n",
        "final_forest_imp_features = RandomForestClassifier(random_state=10, max_depth=8, min_samples_split=20, n_estimators=30)\n",
        "final_forest_imp_features.fit(ext_data, y_train)\n",
        "pred_final_forest_imp_features= final_forest_imp_features.predict_proba(ext_data_test)[:,1]"
      ],
      "execution_count": 265,
      "outputs": []
    },
    {
      "cell_type": "code",
      "metadata": {
        "id": "Bo24UNnksr99"
      },
      "source": [
        "submission['SK_ID_CURR'] = test_id.values\n",
        "submission['TARGET'] = pred_final_forest_imp_features"
      ],
      "execution_count": 266,
      "outputs": []
    },
    {
      "cell_type": "code",
      "metadata": {
        "id": "PpByj1HQuKTs"
      },
      "source": [
        "submission.to_csv('my_sub5features.csv', index = False)"
      ],
      "execution_count": 267,
      "outputs": []
    },
    {
      "cell_type": "markdown",
      "metadata": {
        "id": "Mi4Mt8bJyed_"
      },
      "source": [
        "Использование 5 самых важных признаков дает немного менее точный результат, чем использование всех признаков"
      ]
    },
    {
      "cell_type": "code",
      "metadata": {
        "id": "yUrEzeWzvISx"
      },
      "source": [
        "#построим дерево для 4 важных признаков, исключим самый важный\n",
        "final_forest_imp_features4 = RandomForestClassifier(random_state=10, max_depth=8, min_samples_split=20, n_estimators=30)\n",
        "final_forest_imp_features4.fit(ext_data4, y_train)\n",
        "pred_final_forest_imp_features4= final_forest_imp_features4.predict_proba(ext_data_test4)[:,1]"
      ],
      "execution_count": 275,
      "outputs": []
    },
    {
      "cell_type": "code",
      "metadata": {
        "id": "0DOoz_E2vNZU"
      },
      "source": [
        "submission['SK_ID_CURR'] = test_id.values\n",
        "submission['TARGET'] = pred_final_forest_imp_features4"
      ],
      "execution_count": 276,
      "outputs": []
    },
    {
      "cell_type": "code",
      "metadata": {
        "id": "jotlSw-dvPgO"
      },
      "source": [
        "submission.to_csv('my_sub4features.csv', index = False)"
      ],
      "execution_count": 277,
      "outputs": []
    },
    {
      "cell_type": "markdown",
      "metadata": {
        "id": "E4X3ilNWvZGl"
      },
      "source": [
        "Скор для 5 важных признаков 0.71642\n",
        "\n",
        "Скор для 4 важных признаков 0.71556\n",
        "\n",
        "Таким образом, можно отметить, что неиспользуя самый важный признак EXT_SOURCE_3 мы получаем менее точный результат"
      ]
    }
  ]
}